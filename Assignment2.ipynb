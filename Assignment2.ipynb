{
 "cells": [
  {
   "cell_type": "markdown",
   "metadata": {},
   "source": [
    "## Assignment 2 Model Fitting with Maximum Likelihood \n",
    "### The purpose of this assignment is to learn how to write a log likelihood function, fit models to data with maximum likelihood and to select among models using AIC (or BIC)\n",
    "\n",
    "\n",
    "###  Deadline: Friday 10/20"
   ]
  },
  {
   "cell_type": "code",
   "execution_count": 5,
   "metadata": {},
   "outputs": [],
   "source": [
    "import numpy as np\n",
    "from numpy import random\n",
    "from matplotlib import pyplot as plt"
   ]
  },
  {
   "cell_type": "code",
   "execution_count": null,
   "metadata": {},
   "outputs": [],
   "source": [
    "def shiftedwald(params, x):\n",
    "    '''\n",
    "    params: is a list or numpy array containing two parameters\n",
    "    x: are the data\n",
    "    '''\n",
    " \n",
    "    gamma = params[0] #drift rate\n",
    "    alpha = params[1] #boundary separation\n",
    "    theta = params[2] #shift or nondecision time \n",
    "    x = x-theta\n",
    "    z = alpha/np.sqrt(2*np.pi*(x**3))\n",
    "    w = ((np.abs(alpha-gamma*x))**2)/(2*x)\n",
    "    f = z*np.exp(-w)\n",
    "    return f"
   ]
  },
  {
   "cell_type": "markdown",
   "metadata": {},
   "source": [
    "## Problem 1 \n",
    "### Use the shifted Wald distribution defined above.  Write a function which computes the negative log likelihood \n",
    "### of the shifted Wald distribution.  Assume that the data to be analyzed is in a variable called data. \n",
    "### The function should return negative log likelihood "
   ]
  },
  {
   "cell_type": "code",
   "execution_count": null,
   "metadata": {},
   "outputs": [],
   "source": [
    "def negloglikeWald(params):\n",
    "    ''' written with params containing gamma, alpha, theta in that order.  Assumes data is in the variable data'''\n",
    "    return negloglike "
   ]
  },
  {
   "cell_type": "markdown",
   "metadata": {},
   "source": [
    "## Problem 2 \n",
    "### Using the function the negative log-likelihood that you developed in problem 1, fit the shifted Wald distribution to the data for ALL the subjects in ReactionTimeData.csv.  \n",
    "### You should consider two models: \n",
    "### Model A: All of the data comes from a single distribution. \n",
    "### Model B: The data in each condition (Easy, Medium, Hard) comes from a separate distribution. \n",
    "\n",
    "### When I did this, I chose to use the function `least_squares` in the scipy.optimize module, and my call looked like this. \n",
    "    data = rt([correct == 1])\n",
    "    paramfit = least_squares(negloglikeWald,[0.1,80,250],bounds = ([0,0,0],np.inf),max_nfev=50000)\n",
    "### I highly recommend that you investigate what least_squares does, its a super useful function.  \n",
    "### If you run into problems with your computer taking too long, reduce the amount of data, even do just 1 or a few subjects.\n",
    "### Remember, this model is only valid for correct responses. \n",
    "### Make a plot or table or something to show me (make it pretty!) how the resulting parameter fits turned out.  "
   ]
  },
  {
   "cell_type": "code",
   "execution_count": null,
   "metadata": {},
   "outputs": [],
   "source": []
  },
  {
   "cell_type": "markdown",
   "metadata": {},
   "source": [
    "## Problem 3 \n",
    "### Use AIC to evaluate which model you should prefer.  Are all the data from 1 distribution or from three different distributions?  "
   ]
  },
  {
   "cell_type": "code",
   "execution_count": null,
   "metadata": {},
   "outputs": [],
   "source": []
  },
  {
   "cell_type": "markdown",
   "metadata": {},
   "source": [
    "## Problem 4 \n",
    "### The two models given above are not the only models you could propose.  \n",
    "### The original idea of this experiment was to manipulate drift rate in order to find brain activity related to speed of information processing. \n",
    "### So, our hypothesis was that non-decision time, and boundary would be the same for all conditions, and only the drift rate would vary.  \n",
    "### Write a function for negative log likelihood for a model that keeps boundary (alpha) and non-decision time (theta) the same for all 3 conditions, but allows drift rate (gamma) to vary. \n",
    "### Hint: In this model there are now 5 parameters - gamma_easy, gamma_medium, gamma_hard, alpha, theta. \n",
    "### Hint: The likelihood should be evaluated using the correct gamma for each condition, and using the sama alpha and theta for all condition.  "
   ]
  },
  {
   "cell_type": "markdown",
   "metadata": {},
   "source": []
  }
 ],
 "metadata": {
  "kernelspec": {
   "display_name": "base",
   "language": "python",
   "name": "python3"
  },
  "language_info": {
   "codemirror_mode": {
    "name": "ipython",
    "version": 3
   },
   "file_extension": ".py",
   "mimetype": "text/x-python",
   "name": "python",
   "nbconvert_exporter": "python",
   "pygments_lexer": "ipython3",
   "version": "3.11.3"
  },
  "orig_nbformat": 4
 },
 "nbformat": 4,
 "nbformat_minor": 2
}
